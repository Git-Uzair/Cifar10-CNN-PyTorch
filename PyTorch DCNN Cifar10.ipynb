{
 "cells": [
  {
   "cell_type": "code",
   "execution_count": 1,
   "id": "65d0da5b",
   "metadata": {},
   "outputs": [
    {
     "name": "stdout",
     "output_type": "stream",
     "text": [
      "CUDA is available!  Training on GPU ...\n"
     ]
    }
   ],
   "source": [
    "import torch\n",
    "import numpy as np\n",
    "import math\n",
    "# check if CUDA is available\n",
    "train_on_gpu = torch.cuda.is_available()\n",
    "\n",
    "if not train_on_gpu:\n",
    "    print('CUDA is not available.  Training on CPU ...')\n",
    "else:\n",
    "    print('CUDA is available!  Training on GPU ...')"
   ]
  },
  {
   "cell_type": "code",
   "execution_count": 15,
   "id": "8bda8125",
   "metadata": {},
   "outputs": [
    {
     "name": "stdout",
     "output_type": "stream",
     "text": [
      "NVIDIA GeForce RTX 2070 SUPER\n"
     ]
    }
   ],
   "source": [
    "if train_on_gpu:\n",
    "    print(torch.cuda.get_device_name(0))"
   ]
  },
  {
   "cell_type": "code",
   "execution_count": 13,
   "id": "cea15df9",
   "metadata": {},
   "outputs": [],
   "source": [
    "import matplotlib.pyplot as plt"
   ]
  },
  {
   "cell_type": "code",
   "execution_count": 2,
   "id": "b91cb065",
   "metadata": {},
   "outputs": [],
   "source": [
    "classes = ['airplane', 'automobile', 'bird', 'cat', 'deer',\n",
    "           'dog', 'frog', 'horse', 'ship', 'truck']"
   ]
  },
  {
   "cell_type": "code",
   "execution_count": 3,
   "id": "998d513f",
   "metadata": {},
   "outputs": [],
   "source": [
    "def class_acc(pred, gt):\n",
    "    true = 0\n",
    "\n",
    "    for labels in zip(pred, gt):\n",
    "        if labels[0] == labels[1]:\n",
    "            true += 1\n",
    "\n",
    "    return (true/len(gt))*100"
   ]
  },
  {
   "cell_type": "markdown",
   "id": "543eee4a",
   "metadata": {},
   "source": [
    "# Loading Data through PyTorch builtin function"
   ]
  },
  {
   "cell_type": "code",
   "execution_count": 4,
   "id": "d4bb8c06",
   "metadata": {},
   "outputs": [],
   "source": [
    "from torchvision import datasets\n",
    "import torchvision.transforms as transforms\n",
    "\n",
    "#load data and also transform it to pytorch tensor so that can be used on model\n",
    "transform = transforms.Compose([\n",
    "    transforms.ToTensor()\n",
    "    ])\n",
    "\n",
    "#Folder should be in form ./data/cifar-10-batches-py/<all data batches here>\n",
    "\n",
    "Cfar_10_train = datasets.CIFAR10('./data/',train=True,transform=transform)\n",
    "Cfar_10_test = datasets.CIFAR10('./data/',train=False,transform=transform)\n",
    "train_data = torch.utils.data.DataLoader(Cfar_10_train,\n",
    "                                          batch_size=64,\n",
    "                                          shuffle=True)\n",
    "\n",
    "test_data = torch.utils.data.DataLoader(Cfar_10_test,\n",
    "                                          batch_size=10,\n",
    "                                          shuffle=True)\n",
    "\n"
   ]
  },
  {
   "cell_type": "markdown",
   "id": "2ff50e4c",
   "metadata": {},
   "source": [
    "# Defining model"
   ]
  },
  {
   "cell_type": "code",
   "execution_count": 5,
   "id": "3dd9b2e3",
   "metadata": {
    "scrolled": false
   },
   "outputs": [
    {
     "name": "stdout",
     "output_type": "stream",
     "text": [
      "Net(\n",
      "  (pool): MaxPool2d(kernel_size=2, stride=2, padding=0, dilation=1, ceil_mode=False)\n",
      "  (conv1): Conv2d(3, 96, kernel_size=(3, 3), stride=(1, 1), padding=(1, 1))\n",
      "  (conv2): Conv2d(96, 96, kernel_size=(3, 3), stride=(2, 2), padding=(1, 1))\n",
      "  (conv3): Conv2d(96, 192, kernel_size=(3, 3), stride=(1, 1), padding=(1, 1))\n",
      "  (conv4): Conv2d(192, 192, kernel_size=(3, 3), stride=(2, 2), padding=(1, 1))\n",
      "  (fc1): Linear(in_features=768, out_features=500, bias=True)\n",
      "  (fc2): Linear(in_features=500, out_features=256, bias=True)\n",
      "  (drop1): Dropout(p=0.2, inplace=False)\n",
      "  (fc3): Linear(in_features=256, out_features=10, bias=True)\n",
      ")\n"
     ]
    }
   ],
   "source": [
    "import torch.nn as nn\n",
    "import torch.nn.functional as F\n",
    "\n",
    "\n",
    "class Net(nn.Module):\n",
    "    def __init__(self):\n",
    "        super(Net, self).__init__()\n",
    "        self.pool = nn.MaxPool2d(2, 2)\n",
    "        # convolutional layer (sees 3 x32x32 image tensor) (RGB x W x H)\n",
    "        self.conv1 = nn.Conv2d(3, 96, 3, padding=1, stride=1)\n",
    "        # convolutional layer (sees 96 x16x16 tensor)\n",
    "        self.conv2 = nn.Conv2d(96, 96, 3, padding=1,stride=2)\n",
    "        # convolutional layer (sees 96 x8x8 tensor)\n",
    "        self.conv3 = nn.Conv2d(96, 192, 3, padding=1,stride=1)\n",
    "        # convolutional layer (sees 192 x4x4 tensor)\n",
    "        self.conv4 = nn.Conv2d(192, 192, 3, padding=1,stride=2)\n",
    "        \n",
    "        # linear layer (192 * 2 *2 -> 768)\n",
    "        self.fc1 = nn.Linear(192 * 2 * 2, 500)\n",
    "        # linear layer (500 -> 256)\n",
    "        self.fc2 = nn.Linear(500, 256)\n",
    "        # linear layer (256 -> 10)\n",
    "        self.drop1 = nn.Dropout(0.2)\n",
    "        self.fc3 = nn.Linear(256, 10)\n",
    "        \n",
    "\n",
    "    def forward(self, x):\n",
    "        \n",
    "        x = self.pool(F.relu(self.conv1(x)))\n",
    "        \n",
    "        x = F.relu(self.conv2(x))\n",
    "        \n",
    "        x = self.pool(F.relu(self.conv3(x)))\n",
    "        \n",
    "        x = F.relu(self.conv4(x))\n",
    "        \n",
    "        # flatten image input\n",
    "        x = x.view(-1, 192 * 2 * 2)\n",
    "        x = F.relu(self.fc1(x))\n",
    "        x = F.relu(self.fc2(x))\n",
    "        x=self.drop1(x)\n",
    "        x = torch.sigmoid(self.fc3(x))\n",
    "        return x\n",
    "\n",
    "\n",
    "model = Net()\n",
    "print(model)\n",
    "\n",
    "\n",
    "if train_on_gpu:\n",
    "    model.cuda()"
   ]
  },
  {
   "cell_type": "code",
   "execution_count": 6,
   "id": "d490f105",
   "metadata": {},
   "outputs": [
    {
     "name": "stdout",
     "output_type": "stream",
     "text": [
      "torch.Size([1, 10])\n"
     ]
    }
   ],
   "source": [
    "#testing model output for dimensions\n",
    "output = model(torch.Tensor(np.empty((1,3,32,32))).cuda().float())\n",
    "\n",
    "print(output.shape)"
   ]
  },
  {
   "cell_type": "code",
   "execution_count": 7,
   "id": "509bdf64",
   "metadata": {},
   "outputs": [],
   "source": [
    "import torch.optim as optim\n",
    "\n",
    "loss_function = nn.BCELoss()\n",
    "\n",
    "#stochastic gradient descent for optimzing loss function\n",
    "optimizer = optim.SGD(model.parameters(), lr=0.1)"
   ]
  },
  {
   "cell_type": "markdown",
   "id": "0e5bdfac",
   "metadata": {},
   "source": [
    "# Training\n"
   ]
  },
  {
   "cell_type": "code",
   "execution_count": 8,
   "id": "615269b5",
   "metadata": {
    "scrolled": false
   },
   "outputs": [
    {
     "name": "stdout",
     "output_type": "stream",
     "text": [
      "Epoch: 1 \tTraining Loss: 0.36131979969978334\n",
      "Epoch: 1 \tTesting Loss: 0.5215864757537841\n",
      "Saving model as testing loss decreased\n",
      "Epoch: 2 \tTraining Loss: 0.32629025355339053\n",
      "Epoch: 2 \tTesting Loss: 0.5198815326213837\n",
      "Saving model as testing loss decreased\n",
      "Epoch: 3 \tTraining Loss: 0.3253344324016571\n",
      "Epoch: 3 \tTesting Loss: 0.5171931965351104\n",
      "Saving model as testing loss decreased\n",
      "Epoch: 4 \tTraining Loss: 0.3154613423538208\n",
      "Epoch: 4 \tTesting Loss: 0.5034890913009643\n",
      "Saving model as testing loss decreased\n",
      "Epoch: 5 \tTraining Loss: 0.2968469530773163\n",
      "Epoch: 5 \tTesting Loss: 0.4682582497358322\n",
      "Saving model as testing loss decreased\n",
      "Epoch: 6 \tTraining Loss: 0.2889463156223297\n",
      "Epoch: 6 \tTesting Loss: 0.46233075535297397\n",
      "Saving model as testing loss decreased\n",
      "Epoch: 7 \tTraining Loss: 0.28042924783706663\n",
      "Epoch: 7 \tTesting Loss: 0.4600528417825699\n",
      "Saving model as testing loss decreased\n",
      "Epoch: 8 \tTraining Loss: 0.2690238276576996\n",
      "Epoch: 8 \tTesting Loss: 0.4172309596061707\n",
      "Saving model as testing loss decreased\n",
      "Epoch: 9 \tTraining Loss: 0.26018561191082\n",
      "Epoch: 9 \tTesting Loss: 0.40493284418582914\n",
      "Saving model as testing loss decreased\n",
      "Epoch: 10 \tTraining Loss: 0.25234401324272154\n",
      "Epoch: 10 \tTesting Loss: 0.40625720608234406\n",
      "Epoch: 11 \tTraining Loss: 0.2451428415441513\n",
      "Epoch: 11 \tTesting Loss: 0.3775209622144699\n",
      "Saving model as testing loss decreased\n",
      "Epoch: 12 \tTraining Loss: 0.23763267862319945\n",
      "Epoch: 12 \tTesting Loss: 0.382044864320755\n",
      "Epoch: 13 \tTraining Loss: 0.23097439589977264\n",
      "Epoch: 13 \tTesting Loss: 0.3593449609518051\n",
      "Saving model as testing loss decreased\n",
      "Epoch: 14 \tTraining Loss: 0.22505225503921508\n",
      "Epoch: 14 \tTesting Loss: 0.35507020184993743\n",
      "Saving model as testing loss decreased\n",
      "Epoch: 15 \tTraining Loss: 0.21922738738059996\n",
      "Epoch: 15 \tTesting Loss: 0.36284452245235443\n",
      "Epoch: 16 \tTraining Loss: 0.21386442881584167\n",
      "Epoch: 16 \tTesting Loss: 0.338603921353817\n",
      "Saving model as testing loss decreased\n",
      "Epoch: 17 \tTraining Loss: 0.20724134261131286\n",
      "Epoch: 17 \tTesting Loss: 0.4116224303603172\n",
      "Epoch: 18 \tTraining Loss: 0.20165746283531188\n",
      "Epoch: 18 \tTesting Loss: 0.34975414152145384\n",
      "Epoch: 19 \tTraining Loss: 0.19591094531059264\n",
      "Epoch: 19 \tTesting Loss: 0.3053860516786575\n",
      "Saving model as testing loss decreased\n",
      "Epoch: 20 \tTraining Loss: 0.1898891558408737\n",
      "Epoch: 20 \tTesting Loss: 0.36546409653425216\n",
      "Epoch: 21 \tTraining Loss: 0.18314904224395753\n",
      "Epoch: 21 \tTesting Loss: 0.30594336631298064\n",
      "Epoch: 22 \tTraining Loss: 0.17750229897022246\n",
      "Epoch: 22 \tTesting Loss: 0.32235305973291395\n",
      "Epoch: 23 \tTraining Loss: 0.1715309215927124\n",
      "Epoch: 23 \tTesting Loss: 0.3151446558356285\n",
      "Epoch: 24 \tTraining Loss: 0.1657756382036209\n",
      "Epoch: 24 \tTesting Loss: 0.2644939710080624\n",
      "Saving model as testing loss decreased\n",
      "Epoch: 25 \tTraining Loss: 0.1601837697982788\n",
      "Epoch: 25 \tTesting Loss: 0.2643321630239487\n",
      "Saving model as testing loss decreased\n",
      "Epoch: 26 \tTraining Loss: 0.15453549343585968\n",
      "Epoch: 26 \tTesting Loss: 0.27163293266296384\n",
      "Epoch: 27 \tTraining Loss: 0.14978672999858855\n",
      "Epoch: 27 \tTesting Loss: 0.2502027895152569\n",
      "Saving model as testing loss decreased\n",
      "Epoch: 28 \tTraining Loss: 0.1445009900164604\n",
      "Epoch: 28 \tTesting Loss: 0.28435417966246607\n",
      "Epoch: 29 \tTraining Loss: 0.13996123448848724\n",
      "Epoch: 29 \tTesting Loss: 0.32002278437018394\n",
      "Epoch: 30 \tTraining Loss: 0.13486547402381896\n",
      "Epoch: 30 \tTesting Loss: 0.2462221753925085\n",
      "Saving model as testing loss decreased\n",
      "Epoch: 31 \tTraining Loss: 0.13002203717947006\n",
      "Epoch: 31 \tTesting Loss: 0.2278582250535488\n",
      "Saving model as testing loss decreased\n",
      "Epoch: 32 \tTraining Loss: 0.125655537545681\n",
      "Epoch: 32 \tTesting Loss: 0.2391533889308572\n",
      "Epoch: 33 \tTraining Loss: 0.12130745044708252\n",
      "Epoch: 33 \tTesting Loss: 0.27324688527584073\n",
      "Epoch: 34 \tTraining Loss: 0.11715985900402069\n",
      "Epoch: 34 \tTesting Loss: 0.23098399643003942\n",
      "Epoch: 35 \tTraining Loss: 0.11292264592409133\n",
      "Epoch: 35 \tTesting Loss: 0.35638944907188413\n",
      "Epoch: 36 \tTraining Loss: 0.10877286119222641\n",
      "Epoch: 36 \tTesting Loss: 0.24575253544449807\n",
      "Epoch: 37 \tTraining Loss: 0.10448944937944413\n",
      "Epoch: 37 \tTesting Loss: 0.23425248686373235\n",
      "Epoch: 38 \tTraining Loss: 0.0998230739235878\n",
      "Epoch: 38 \tTesting Loss: 0.23815628965198993\n",
      "Epoch: 39 \tTraining Loss: 0.09598375822067261\n",
      "Epoch: 39 \tTesting Loss: 0.24117270226329565\n",
      "Epoch: 40 \tTraining Loss: 0.0915526152563095\n",
      "Epoch: 40 \tTesting Loss: 0.2417065381169319\n",
      "Epoch: 41 \tTraining Loss: 0.08739083591103554\n",
      "Epoch: 41 \tTesting Loss: 0.22018898260891437\n",
      "Saving model as testing loss decreased\n",
      "Epoch: 42 \tTraining Loss: 0.08329729908823967\n",
      "Epoch: 42 \tTesting Loss: 0.26751215978339316\n",
      "Epoch: 43 \tTraining Loss: 0.07910465075016022\n",
      "Epoch: 43 \tTesting Loss: 0.39098823192864657\n",
      "Epoch: 44 \tTraining Loss: 0.07496429024219513\n",
      "Epoch: 44 \tTesting Loss: 0.24920408767983318\n",
      "Epoch: 45 \tTraining Loss: 0.07010978719472885\n",
      "Epoch: 45 \tTesting Loss: 0.22808327654749155\n",
      "Epoch: 46 \tTraining Loss: 0.06625748405933381\n",
      "Epoch: 46 \tTesting Loss: 0.27080023103952405\n",
      "Epoch: 47 \tTraining Loss: 0.06211293900370598\n",
      "Epoch: 47 \tTesting Loss: 0.24043652811571956\n",
      "Epoch: 48 \tTraining Loss: 0.057551239496469495\n",
      "Epoch: 48 \tTesting Loss: 0.3151649549692869\n",
      "Epoch: 49 \tTraining Loss: 0.05406227609395981\n",
      "Epoch: 49 \tTesting Loss: 0.30033677370101214\n"
     ]
    }
   ],
   "source": [
    "test_min = math.inf\n",
    "lossT=[]\n",
    "epoch=[]\n",
    "for epochs in range(1,50):\n",
    "    \n",
    "    training_loss = 0\n",
    "    testing_loss=0\n",
    "    model.train()\n",
    "    \n",
    "    #data in form (batch_size, RGB, H,W), label in form (Batch_size,1)\n",
    "    for data, label in train_data:\n",
    "        label = F.one_hot(label,num_classes=10)\n",
    "        if train_on_gpu:\n",
    "            data, label = data.cuda(), label.cuda().float()\n",
    "            \n",
    "        optimizer.zero_grad()\n",
    "        \n",
    "        #output = (batch_size,10)\n",
    "        output = model(data)\n",
    "        loss = loss_function(output,label)\n",
    "        loss.backward()\n",
    "        optimizer.step()\n",
    "        \n",
    "        #total loss over a batch\n",
    "        training_loss+=loss.item()*data.size(0)\n",
    "    \n",
    "    #average training loss over 1 epoch\n",
    "    training_loss=training_loss/len(train_data.dataset)    \n",
    "    lossT.append(training_loss)\n",
    "    epoch.append(epochs)\n",
    "    print('Epoch: {} \\tTraining Loss: {}'.format(epochs,training_loss))\n",
    "    model.eval()\n",
    "    total_correct = 0\n",
    "    for data_t, label_t in test_data:\n",
    "        label_t = F.one_hot(label_t,num_classes=10)\n",
    "        if train_on_gpu:\n",
    "            data_t, label_t = data_t.cuda(), label_t.cuda().float()\n",
    "        \n",
    "        output_t = model(data_t)\n",
    "        loss = loss_function(output_t,label_t)\n",
    "        testing_loss+=loss.item()*data.size(0)\n",
    "        \n",
    "#         for idx, pred in enumerate(output_t.max(1).indices):\n",
    "# #             print(\"Predicted: \",classes[pred])\n",
    "# #             print(\"actually: \",classes[label_t[idx].argmax()])\n",
    "#             if label_t[idx][pred]:\n",
    "                \n",
    "#                 total_correct+=1\n",
    "\n",
    "    testing_loss=testing_loss/len(test_data.dataset)\n",
    "    print('Epoch: {} \\tTesting Loss: {}'.format(epochs,testing_loss))\n",
    "    if testing_loss<test_min:\n",
    "        test_min=testing_loss\n",
    "        torch.save(model.state_dict(), './models/model+epoch{}.pth'.format(epochs))\n",
    "        print(\"Saving model as testing loss decreased\")\n",
    "    \n",
    "    \n",
    "        \n",
    "    \n",
    "    \n",
    "    "
   ]
  },
  {
   "cell_type": "markdown",
   "id": "fe32aaa0",
   "metadata": {},
   "source": [
    "# Loading best model and testing on test set"
   ]
  },
  {
   "cell_type": "code",
   "execution_count": 12,
   "id": "cae9ea45",
   "metadata": {},
   "outputs": [
    {
     "name": "stdout",
     "output_type": "stream",
     "text": [
      "Accuracy over Test set 71.6\n"
     ]
    }
   ],
   "source": [
    "model.load_state_dict(torch.load('./models/model+epoch41.pth'))\n",
    "model.eval()\n",
    "total_correct = 0\n",
    "for data_t, label_t in test_data:\n",
    "        label_t = F.one_hot(label_t,num_classes=10)\n",
    "        if train_on_gpu:\n",
    "            data_t, label_t = data_t.cuda(), label_t.cuda().float()\n",
    "        \n",
    "        output_t = model(data_t)\n",
    "        loss = loss_function(output_t,label_t)\n",
    "        testing_loss+=loss.item()*data.size(0)\n",
    "        \n",
    "        for idx, pred in enumerate(output_t.max(1).indices):\n",
    "            \n",
    "#             print(\"Predicted: \",classes[pred])\n",
    "#             print(\"actually: \",classes[label_t[idx].argmax()])\n",
    "            if label_t[idx][pred]:\n",
    "                \n",
    "                total_correct+=1\n",
    "print('Accuracy over Test set {}'.format(total_correct/len(test_data.dataset)*100))"
   ]
  },
  {
   "cell_type": "markdown",
   "id": "d1b8f330",
   "metadata": {},
   "source": [
    "# Training Loss vs epochs"
   ]
  },
  {
   "cell_type": "code",
   "execution_count": 14,
   "id": "3601128c",
   "metadata": {},
   "outputs": [
    {
     "data": {
      "image/png": "[encoded data removed]",
      "text/plain": [
       "<Figure size 432x288 with 1 Axes>"
      ]
     },
     "metadata": {
      "needs_background": "light"
     },
     "output_type": "display_data"
    }
   ],
   "source": [
    "plt.plot(epoch, lossT)\n",
    "\n",
    "plt.xlabel(\"Epochs\")\n",
    "plt.ylabel(\"Loss\")\n",
    "\n",
    "plt.show()"
   ]
  }
 ],
 "metadata": {
  "kernelspec": {
   "display_name": "Python 3 (ipykernel)",
   "language": "python",
   "name": "python3"
  },
  "language_info": {
   "codemirror_mode": {
    "name": "ipython",
    "version": 3
   },
   "file_extension": ".py",
   "mimetype": "text/x-python",
   "name": "python",
   "nbconvert_exporter": "python",
   "pygments_lexer": "ipython3",
   "version": "3.9.6"
  }
 },
 "nbformat": 4,
 "nbformat_minor": 5
}
